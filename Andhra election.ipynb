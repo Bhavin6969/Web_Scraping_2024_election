{
 "cells": [
  {
   "cell_type": "code",
   "execution_count": 1,
   "id": "21ad63b3-63e4-4e8b-9359-2f82e839ae48",
   "metadata": {},
   "outputs": [],
   "source": [
    "import requests\n",
    "from bs4 import BeautifulSoup"
   ]
  },
  {
   "cell_type": "code",
   "execution_count": 3,
   "id": "e844b52f-a931-40a4-8e69-023360acbd83",
   "metadata": {},
   "outputs": [
    {
     "name": "stdout",
     "output_type": "stream",
     "text": [
      "<Response [200]>\n",
      "<!DOCTYPE html>\n",
      "<html lang=\"en\">\n",
      "<head>\n",
      "<!-- Required meta tags -->\n",
      "<meta charset=\"utf-8\"/>\n",
      "<meta content=\"width=device-width, initial-scale=1\" name=\"viewport\"/>\n",
      "<!-- Bootstrap CSS -->\n",
      "<link href=\"css/bootstrap.min.css\" rel=\"stylesheet\"/>\n",
      "<link href=\"css/custom.css\" rel=\"stylesheet\"/>\n",
      "<link href=\"css/responsive.css\" rel=\"stylesheet\"/>\n",
      "<link href=\"css/font.css\" rel=\"stylesheet\"/>\n",
      "<link href=\"img/icons/favicon.ico\" rel=\"shortcut icon\" type=\"image/x-icon\"/>\n",
      "<title>Election Commission of India</title>\n",
      "<style type=\"text/css\">\n",
      "</style>\n",
      "<script>!function(a){var e=\"https://s.go-mpulse.net/boomerang/\",t=\"addEventListener\";if(\"False\"==\"True\")a.BOOMR_config=a.BOOMR_config||{},a.BOOMR_config.PageParams=a.BOOMR_config.PageParams||{},a.BOOMR_config.PageParams.pci=!0,e=\"https://s2.go-mpulse.net/boomerang/\";if(window.BOOMR_API_key=\"C8JDA-BHWH8-9MQ5M-HKZCP-GH7SB\",function(){function n(e){a.BOOMR_onload=e&&e.timeStamp||(new Date).getTime()}if(!a.BOOMR||!a.BOOMR.version&&!a.BOOMR.snippetExecuted){a.BOOMR=a.BOOMR||{},a.BOOMR.snippetExecuted=!0;var i,_,o,r=document.createElement(\"iframe\");if(a[t])a[t](\"load\",n,!1);else if(a.attachEvent)a.attachEvent(\"onload\",n);r.src=\"javascript:void(0)\",r.title=\"\",r.role=\"presentation\",(r.frameElement||r).style.cssText=\"width:0;height:0;border:0;display:none;\",o=document.getElementsByTagName(\"script\")[0],o.parentNode.insertBefore(r,o);try{_=r.contentWindow.document}catch(O){i=document.domain,r.src=\"javascript:var d=document.open();d.domain='\"+i+\"';void(0);\",_=r.contentWindow.document}_.open()._l=function(){var a=this.createElement(\"script\");if(i)this.domain=i;a.id=\"boomr-if-as\",a.src=e+\"C8JDA-BHWH8-9MQ5M-HKZCP-GH7SB\",BOOMR_lstart=(new Date).getTime(),this.body.appendChild(a)},_.write(\"<bo\"+'dy onload=\"document._l();\">'),_.close()}}(),\"\".length>0)if(a&&\"performance\"in a&&a.performance&&\"function\"==typeof a.performance.setResourceTimingBufferSize)a.performance.setResourceTimingBufferSize();!function(){if(BOOMR=a.BOOMR||{},BOOMR.plugins=BOOMR.plugins||{},!BOOMR.plugins.AK){var e=\"\"==\"true\"?1:0,t=\"\",n=\"36zfcdyxgdrbezuap7oq-f-84c4bef03-clientnsv4-s.akamaihd.net\",i=\"false\"==\"true\"?2:1,_={\"ak.v\":\"37\",\"ak.cp\":\"1109753\",\"ak.ai\":parseInt(\"537121\",10),\"ak.ol\":\"0\",\"ak.cr\":40,\"ak.ipv\":4,\"ak.proto\":\"http/1.1\",\"ak.rid\":\"4397f33\",\"ak.r\":37247,\"ak.a2\":e,\"ak.m\":\"b\",\"ak.n\":\"ff\",\"ak.bpcip\":\"223.178.81.0\",\"ak.cport\":22671,\"ak.gh\":\"23.48.226.14\",\"ak.quicv\":\"\",\"ak.tlsv\":\"tls1.3\",\"ak.0rtt\":\"\",\"ak.csrc\":\"-\",\"ak.acc\":\"reno\",\"ak.t\":\"1719697373\",\"ak.ak\":\"hOBiQwZUYzCg5VSAfCLimQ==GWxTOoHYVsDQHGuTd0/B5TRlvjeS+TvCQi8yP70wDGinmceYZtMhEHxplWp685tOiN6v+LXlW16TTlDrTr6v7MmpdnH2qVdLrTL0U7z1wIQq1bArqh9hJ+URk829F87UKdnnA6XTCXrOGveiKhehvixN+IojAueEC5/s98dbU+lw2fk5tAMT1kDzE+TbgL3Sx6F2r5RAOk2if0EnKHSuZI7tzvxoH2oQMEWYVV2KSuH/+HQPzJISLw0f/03ki6GE1eg4cVGMCLzLhOtTm9IYbPZtmIjpYjWvjS0iRmnHkCZiWJBBwjwHMOwON0KGM6YGRCRgXTIYb25VxN8Mir8ejVux1/daCxqbc7iCI4WivcytJiDKNgFLHCManU0schsLqdxE0hj86QbMMzeAKGjtKTVvoAZWrkigUBCIlAbbQtI=\",\"ak.pv\":\"86\",\"ak.dpoabenc\":\"\",\"ak.tf\":i};if(\"\"!==t)_[\"ak.ruds\"]=t;var o={i:!1,av:function(e){var t=\"http.initiator\";if(e&&(!e[t]||\"spa_hard\"===e[t]))_[\"ak.feo\"]=void 0!==a.aFeoApplied?1:0,BOOMR.addVar(_)},rv:function(){var a=[\"ak.bpcip\",\"ak.cport\",\"ak.cr\",\"ak.csrc\",\"ak.gh\",\"ak.ipv\",\"ak.m\",\"ak.n\",\"ak.ol\",\"ak.proto\",\"ak.quicv\",\"ak.tlsv\",\"ak.0rtt\",\"ak.r\",\"ak.acc\",\"ak.t\",\"ak.tf\"];BOOMR.removeVar(a)}};BOOMR.plugins.AK={akVars:_,akDNSPreFetchDomain:n,init:function(){if(!o.i){var a=BOOMR.subscribe;a(\"before_beacon\",o.av,null,null),a(\"onbeacon\",o.rv,null,null),o.i=!0}return this},is_complete:function(){return!0}}}}()}(window);</script></head>\n",
      "<body>\n",
      "<header class=\"header\">\n",
      "<div class=\"logo-search\">\n",
      "<div class=\"mob-btn\"><img alt=\"\" src=\"img/icons/menu.png\"/></div>\n",
      "<div class=\"logo\"><a href=\"index.htm\"><img alt=\"\" src=\"img/eci-logo.png\"/></a></div>\n",
      "<div class=\"lft-menu\">\n",
      "</div>\n",
      "</div>\n",
      "</header>\n",
      "<div class=\"dis-info\">\n",
      "<div class=\"container-fluid\">\n",
      "<div class=\"d-flex align-items-center justify-content-center\">\n",
      "<h6 class=\"mb-0 mx-2\">Disclaimer:</h6>\n",
      "<p class=\"mb-0\"> ECI is displaying the information as being filled in the system by the Returning Officers from\n",
      "          their respective Counting Centres.The final data for each AC/PC will be shared in Form-20.</p>\n",
      "</div>\n",
      "</div>\n",
      "</div><!-- End of dis-info Div -->\n",
      "<main class=\"inner-content\">\n",
      "<div class=\"page-title\">\n",
      "<h1>General Election to Parliamentary/Assembly Constituencies: Trends &amp; Results June-2024</h1>\n",
      "</div>\n",
      "<div class=\"container-fluid\">\n",
      "<section class=\"state-wrap\">\n",
      "<div class=\"container-fluid container-sm\">\n",
      "<div class=\"row justify-content-center\">\n",
      "<div class=\"col-md-12 col-12\">\n",
      "<div class=\"state-item blue-bg pc-wrap\">\n",
      "<a href=\"https://results.eci.gov.in/PcResultGenJune2024/index.htm\">\n",
      "<h2>Parliamentary\n",
      "                    Constituencies</h2>\n",
      "<h1>543</h1>\n",
      "</a>\n",
      "</div>\n",
      "</div>\n",
      "<div class=\"col-md-4 col-12\">\n",
      "<div class=\"state-item olive-bg\">\n",
      "<a href=\"https://results.eci.gov.in/AcResultGenJune2024/index.htm\" target=\"_blank\">\n",
      "<h2>Andhra Pradesh</h2>\n",
      "<h1>175</h1>\n",
      "<h5>Assembly Constituencies</h5>\n",
      "</a>\n",
      "</div>\n",
      "</div>\n",
      "<div class=\"col-md-4 col-12\">\n",
      "<div class=\"state-item pine-bg\">\n",
      "<a href=\"https://results.eci.gov.in/AcResultGenJune2024/index.htm\" target=\"_blank\">\n",
      "<h2>Odisha</h2>\n",
      "<h1>147</h1>\n",
      "<h5>Assembly Constituencies</h5>\n",
      "</a>\n",
      "</div>\n",
      "</div>\n",
      "<div class=\"col-md-4 col-12\">\n",
      "<div class=\"state-item gry-bg\">\n",
      "<a href=\"https://results.eci.gov.in/AcResultByeJune2024/\" target=\"_blank\">\n",
      "<h2>Bye Elections</h2>\n",
      "<h1>25</h1>\n",
      "<h5>Assembly Constituencies</h5>\n",
      "</a>\n",
      "</div>\n",
      "</div>\n",
      "<div class=\"col-md-6 col-12\"><a class=\"btn btn-big btn-primary\" href=\"https://results.eci.gov.in/AcResultGen2ndJune2024/index.htm\" target=\"_blank\">Arunachal Pradesh</a>\n",
      "</div>\n",
      "<div class=\"col-md-6 col-12\"><a class=\"btn btn-big btn-primary\" href=\"https://results.eci.gov.in/AcResultGen2ndJune2024/index.htm\" target=\"_blank\">Sikkim</a></div>\n",
      "</div>\n",
      "</div>\n",
      "</section>\n",
      "</div><!-- End of container-fluid Div -->\n",
      "</main>\n",
      "<footer class=\"footer\">\n",
      "<div class=\"foot-info\">\n",
      "<div class=\"container-fluid\">\n",
      "<div class=\"row\">\n",
      "<div class=\"col-md-6 col-12\">\n",
      "<h6 class=\"mb-1\">Download Voter helpline app to see results on mobile</h6>\n",
      "</div>\n",
      "<div class=\"col-md-6 col-12\">\n",
      "<ul class=\"d-flex align-items-center items-end\">\n",
      "<li><a href=\"https://play.google.com/store/apps/details?id=com.eci.citizen\" target=\"_blank\"><img alt=\"\" src=\"img/icons/android.png\"/></a></li>\n",
      "<li><a href=\"https://apps.apple.com/in/app/voter-helpline/id1456535004\" target=\"_blank\"><img alt=\"\" src=\"img/icons/apple.png\"/></a></li>\n",
      "</ul>\n",
      "</div>\n",
      "</div>\n",
      "</div>\n",
      "</div>\n",
      "</footer>\n",
      "<!-- Optional JavaScript; choose one of the two! -->\n",
      "<script src=\"js/jquery-3.6.0.min.js\" type=\"text/javascript\"></script>\n",
      "<!-- Option 1: Bootstrap Bundle with Popper -->\n",
      "<script src=\"js/bootstrap.bundle.min.js\" type=\"text/javascript\"></script>\n",
      "<!-- Option 3: Custom jQuery Lab -->\n",
      "<script src=\"js/custom-jQuery.js\" type=\"text/javascript\"></script>\n",
      "</body>\n",
      "</html>\n"
     ]
    }
   ],
   "source": [
    "url=\"https://results.eci.gov.in/\"\n",
    "r=requests.get(url)\n",
    "print(r)\n",
    "soup=BeautifulSoup(r.text,\"lxml\")\n"
   ]
  },
  {
   "cell_type": "code",
   "execution_count": null,
   "id": "84fe7d84-9119-4333-b440-efac8528859d",
   "metadata": {},
   "outputs": [],
   "source": [
    "url=\"https://results.eci.gov.in/\"\n",
    "r=requests.get(url)\n",
    "print(r)\n",
    "soup=BeautifulSoup(r.text,\"lxml\")\n",
    "cnp=\"https://results.eci.gov.in/AcResultGenJune2024/\"\n",
    "print(cnp)\n",
    "link=cnp+\"partywiseresult-S01.htm\"\n",
    "print(link)\n"
   ]
  },
  {
   "cell_type": "code",
   "execution_count": 11,
   "id": "d8d4e70f-1c85-47d3-90fb-3b0cab6145c5",
   "metadata": {},
   "outputs": [
    {
     "name": "stdout",
     "output_type": "stream",
     "text": [
      "https://results.eci.gov.in/AcResultGenJune2024/\n"
     ]
    }
   ],
   "source": [
    "cnp=\"https://results.eci.gov.in/AcResultGenJune2024/\"\n",
    "print(cnp)"
   ]
  },
  {
   "cell_type": "code",
   "execution_count": 12,
   "id": "fdbedbbd-838c-4b64-9b33-403858c9ac4d",
   "metadata": {},
   "outputs": [
    {
     "name": "stdout",
     "output_type": "stream",
     "text": [
      "https://results.eci.gov.in/AcResultGenJune2024/partywiseresult-S01.htm\n"
     ]
    }
   ],
   "source": []
  },
  {
   "cell_type": "code",
   "execution_count": 13,
   "id": "e418077f-f238-4bb6-b133-8cf9e9b4052f",
   "metadata": {},
   "outputs": [],
   "source": [
    "from bs4 import BeautifulSoup"
   ]
  },
  {
   "cell_type": "code",
   "execution_count": 14,
   "id": "79a06d19-93a0-41a9-bde6-05d960b76ad2",
   "metadata": {},
   "outputs": [
    {
     "name": "stdout",
     "output_type": "stream",
     "text": [
      "<Response [200]>\n"
     ]
    }
   ],
   "source": [
    "import requests\n",
    "from bs4 import BeautifulSoup\n",
    "\n",
    "# URL of the website to scrape\n",
    "url = link\n",
    "\n",
    "# Send a request to the website\n",
    "response = requests.get(url)\n",
    "a=response.raise_for_status()  # Check if the request was successful\n",
    "print(response)"
   ]
  },
  {
   "cell_type": "code",
   "execution_count": 25,
   "id": "46dc66ca-0d38-4203-85fa-75dfc05542b2",
   "metadata": {},
   "outputs": [
    {
     "name": "stdout",
     "output_type": "stream",
     "text": [
      "Couldn't find a link to Andhra Pradesh results.\n"
     ]
    },
    {
     "name": "stderr",
     "output_type": "stream",
     "text": [
      "C:\\Users\\Asus\\AppData\\Local\\Temp\\ipykernel_4180\\310221457.py:11: DeprecationWarning: The 'text' argument to find()-type methods is deprecated. Use 'string' instead.\n",
      "  andhra_link = soup.find('a', text='Andhra Pradesh')\n"
     ]
    }
   ],
   "source": [
    "import requests\n",
    "from bs4 import BeautifulSoup\n",
    "import pandas as pd\n",
    "\n",
    "# Step 1: Navigate to the results page\n",
    "url = \"https://results.eci.gov.in/AcResultGenJune2024/index.htm\"\n",
    "r = requests.get(url)\n",
    "soup = BeautifulSoup(r.text, \"lxml\")\n",
    "\n",
    "# Step 2: Look for a link to Andhra Pradesh results\n",
    "andhra_link = soup.find('a', text='Andhra Pradesh')\n",
    "\n",
    "if andhra_link:\n",
    "    andhra_url = 'https://results.eci.gov.in/AcResultGenJune2024/' + andhra_link['href']\n",
    "    \n",
    "    # Step 3: Navigate to Andhra Pradesh results\n",
    "    r = requests.get(andhra_url)\n",
    "    soup = BeautifulSoup(r.text, \"lxml\")\n",
    "    \n",
    "    # Step 4: Now look for the results table\n",
    "    table = soup.find(\"table\", class_=\"table\")\n",
    "    \n",
    "    if table:\n",
    "        # Process the table as in the previous code\n",
    "        # (The code for processing the table remains the same)\n",
    "        ...\n",
    "    else:\n",
    "        print(\"Results table not found on the Andhra Pradesh page.\")\n",
    "else:\n",
    "    print(\"Couldn't find a link to Andhra Pradesh results.\")"
   ]
  },
  {
   "cell_type": "code",
   "execution_count": 27,
   "id": "00814272-27ae-4a8d-a5ad-aa09d1efe91e",
   "metadata": {},
   "outputs": [],
   "source": [
    "import requests\n",
    "url = \"https://results.eci.gov.in/AcResultGenJune2024/index.htm\"\n",
    "response = requests.get(url)\n",
    "# Now you can work with response.content or response.text"
   ]
  },
  {
   "cell_type": "code",
   "execution_count": 32,
   "id": "ff2138ce-3a0c-4ecf-a33b-3f136920ddb1",
   "metadata": {},
   "outputs": [
    {
     "name": "stdout",
     "output_type": "stream",
     "text": [
      "Found Andhra Pradesh link: https://results.eci.gov.in/AcResultGenJune2024/partywiseresult-S01.htm\n",
      "Data scraped successfully:\n",
      "                                           Party  Won  Leading  Total\n",
      "0                             Telugu Desam - TDP  135        0    135\n",
      "1                           Janasena Party - JnP   21        0     21\n",
      "2  Yuvajana Sramika Rythu Congress Party - YSRCP   11        0     11\n",
      "3                   Bharatiya Janata Party - BJP    8        0      8\n",
      "4                                          Total  175        0    175\n",
      "\n",
      "Data saved to andhra_pradesh_election_results.csv\n"
     ]
    },
    {
     "name": "stderr",
     "output_type": "stream",
     "text": [
      "C:\\Users\\Asus\\AppData\\Local\\Temp\\ipykernel_4180\\3217372981.py:29: FutureWarning: Passing literal html to 'read_html' is deprecated and will be removed in a future version. To read from a literal string, wrap it in a 'StringIO' object.\n",
      "  df = pd.read_html(str(table))[0]\n"
     ]
    }
   ],
   "source": [
    "import requests\n",
    "from bs4 import BeautifulSoup\n",
    "import pandas as pd\n",
    "\n",
    "# Step 1: Navigate to the results page\n",
    "url = \"https://results.eci.gov.in/AcResultGenJune2024/index.htm\"\n",
    "try:\n",
    "    r = requests.get(url)\n",
    "    r.raise_for_status()\n",
    "    soup = BeautifulSoup(r.text, \"lxml\")\n",
    "\n",
    "    # Step 2: Look for a link to Andhra Pradesh results\n",
    "    andhra_link = soup.find(lambda tag: tag.name == 'a' and 'Andhra Pradesh' in tag.text)\n",
    "    \n",
    "    if andhra_link and 'href' in andhra_link.attrs:\n",
    "        andhra_url = 'https://results.eci.gov.in/AcResultGenJune2024/' + andhra_link['href']\n",
    "        print(f\"Found Andhra Pradesh link: {andhra_url}\")\n",
    "        \n",
    "        # Step 3: Navigate to Andhra Pradesh results\n",
    "        r = requests.get(andhra_url)\n",
    "        r.raise_for_status()\n",
    "        soup = BeautifulSoup(r.text, \"lxml\")\n",
    "        \n",
    "        # Step 4: Now look for the results table\n",
    "        table = soup.find(\"table\", class_=\"table\")\n",
    "        \n",
    "        if table:\n",
    "            # Process the table\n",
    "            df = pd.read_html(str(table))[0]\n",
    "            print(\"Data scraped successfully:\")\n",
    "            print(df)\n",
    "\n",
    "            # Step 5: Save to CSV\n",
    "            csv_filename = \"andhra_pradesh_election_results.csv\"\n",
    "            df.to_csv(csv_filename, index=False)\n",
    "            print(f\"\\nData saved to {csv_filename}\")\n",
    "        else:\n",
    "            print(\"Results table not found on the Andhra Pradesh page.\")\n",
    "    else:\n",
    "        print(\"Couldn't find a link to Andhra Pradesh results.\")\n",
    "\n",
    "except requests.RequestException as e:\n",
    "    print(f\"An error occurred while fetching the webpage: {e}\")\n",
    "except Exception as e:\n",
    "    print(f\"An unexpected error occurred: {e}\")"
   ]
  },
  {
   "cell_type": "code",
   "execution_count": null,
   "id": "c9b601cb-8c81-4342-9f62-8ac5ca47792f",
   "metadata": {},
   "outputs": [],
   "source": []
  }
 ],
 "metadata": {
  "kernelspec": {
   "display_name": "Python 3 (ipykernel)",
   "language": "python",
   "name": "python3"
  },
  "language_info": {
   "codemirror_mode": {
    "name": "ipython",
    "version": 3
   },
   "file_extension": ".py",
   "mimetype": "text/x-python",
   "name": "python",
   "nbconvert_exporter": "python",
   "pygments_lexer": "ipython3",
   "version": "3.11.7"
  }
 },
 "nbformat": 4,
 "nbformat_minor": 5
}
