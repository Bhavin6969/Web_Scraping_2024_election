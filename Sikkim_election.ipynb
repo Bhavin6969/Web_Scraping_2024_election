{
 "cells": [
  {
   "cell_type": "code",
   "execution_count": 1,
   "id": "989bd641-9849-4e69-98f5-3a212be01a97",
   "metadata": {},
   "outputs": [],
   "source": [
    "import requests\n",
    "from bs4 import BeautifulSoup\n",
    "import pandas as pd\n"
   ]
  },
  {
   "cell_type": "code",
   "execution_count": 3,
   "id": "1b8909fe-49d7-489b-bca2-527de5ea1630",
   "metadata": {},
   "outputs": [
    {
     "name": "stdout",
     "output_type": "stream",
     "text": [
      "<Response [200]>\n"
     ]
    }
   ],
   "source": [
    "url=\"https://results.eci.gov.in/\"\n",
    "r=requests.get(url)\n",
    "print(r)\n",
    "soup=BeautifulSoup(r.text,\"lxml\")"
   ]
  },
  {
   "cell_type": "code",
   "execution_count": 5,
   "id": "990e5e58-d1dc-498d-ae1a-8d9e6f65521c",
   "metadata": {},
   "outputs": [
    {
     "name": "stdout",
     "output_type": "stream",
     "text": [
      "<Response [200]>\n",
      "https://results.eci.gov.in/AcResultGen2ndJune2024/partywiseresult-S21.htm\n"
     ]
    }
   ],
   "source": [
    "url=\"https://results.eci.gov.in/\"\n",
    "r=requests.get(url)\n",
    "print(r)\n",
    "soup=BeautifulSoup(r.text,\"lxml\")\n",
    "cnp=\"https://results.eci.gov.in/\"\n",
    "\n",
    "link=cnp+\"AcResultGen2ndJune2024/partywiseresult-S21.htm\"\n",
    "print(link)\n"
   ]
  },
  {
   "cell_type": "code",
   "execution_count": 6,
   "id": "10af2c15-174f-41d1-95d3-8e9d55687b3e",
   "metadata": {},
   "outputs": [
    {
     "name": "stdout",
     "output_type": "stream",
     "text": [
      "Found Sikkim link: https://results.eci.gov.in/AcResultGen2ndJune2024/partywiseresult-S21.htm\n",
      "Data scraped successfully:\n",
      "                            Party  Won  Leading  Total\n",
      "0  Sikkim Krantikari Morcha - SKM   31        0     31\n",
      "1   Sikkim Democratic Front - SDF    1        0      1\n",
      "2                           Total   32        0     32\n",
      "\n",
      "Data saved to Sikkim_election_results.csv\n"
     ]
    },
    {
     "name": "stderr",
     "output_type": "stream",
     "text": [
      "C:\\Users\\Asus\\AppData\\Local\\Temp\\ipykernel_3380\\515068445.py:24: FutureWarning: Passing literal html to 'read_html' is deprecated and will be removed in a future version. To read from a literal string, wrap it in a 'StringIO' object.\n",
      "  df = pd.read_html(str(table))[0]\n"
     ]
    }
   ],
   "source": [
    "url = \"https://results.eci.gov.in/AcResultGen2ndJune2024/index.htm\"\n",
    "try:\n",
    "    r = requests.get(url)\n",
    "    r.raise_for_status()\n",
    "    soup = BeautifulSoup(r.text, \"lxml\")\n",
    "\n",
    "   \n",
    "    sikkim_link = soup.find(lambda tag: tag.name == 'a' and 'Sikkim' in tag.text)\n",
    "    \n",
    "    if sikkim_link and 'href' in sikkim_link.attrs:\n",
    "        sikkim_url = 'https://results.eci.gov.in/AcResultGen2ndJune2024/' + sikkim_link['href']\n",
    "        print(f\"Found Sikkim link: {sikkim_url}\")\n",
    "        \n",
    "        \n",
    "        r = requests.get(sikkim_url)\n",
    "        r.raise_for_status()\n",
    "        soup = BeautifulSoup(r.text, \"lxml\")\n",
    "        \n",
    "        # Step 4: Now look for the results table\n",
    "        table = soup.find(\"table\", class_=\"table\")\n",
    "        \n",
    "        if table:\n",
    "            # Process the table\n",
    "            df = pd.read_html(str(table))[0]\n",
    "            print(\"Data scraped successfully:\")\n",
    "            print(df)\n",
    "\n",
    "            # Step 5: Save to CSV\n",
    "            csv_filename = \"Sikkim_election_results.csv\"\n",
    "            df.to_csv(csv_filename, index=False)\n",
    "            print(f\"\\nData saved to {csv_filename}\")\n",
    "        else:\n",
    "            print(\"Results table not found on the Sikkim page.\")\n",
    "    else:\n",
    "        print(\"Couldn't find a link to Sikkim results.\")\n",
    "\n",
    "except requests.RequestException as e:\n",
    "    print(f\"An error occurred while fetching the webpage: {e}\")\n",
    "except Exception as e:\n",
    "    print(f\"An unexpected error occurred: {e}\")"
   ]
  },
  {
   "cell_type": "code",
   "execution_count": null,
   "id": "67122722-3a33-4e68-a00a-f9a5fa3a13cb",
   "metadata": {},
   "outputs": [],
   "source": []
  }
 ],
 "metadata": {
  "kernelspec": {
   "display_name": "Python 3 (ipykernel)",
   "language": "python",
   "name": "python3"
  },
  "language_info": {
   "codemirror_mode": {
    "name": "ipython",
    "version": 3
   },
   "file_extension": ".py",
   "mimetype": "text/x-python",
   "name": "python",
   "nbconvert_exporter": "python",
   "pygments_lexer": "ipython3",
   "version": "3.11.7"
  }
 },
 "nbformat": 4,
 "nbformat_minor": 5
}
