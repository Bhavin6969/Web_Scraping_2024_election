{
 "cells": [
  {
   "cell_type": "code",
   "execution_count": 1,
   "id": "72fceb19-da55-4892-9406-51a2177110be",
   "metadata": {},
   "outputs": [],
   "source": [
    "import requests\n",
    "from bs4 import BeautifulSoup"
   ]
  },
  {
   "cell_type": "code",
   "execution_count": 2,
   "id": "67ecab2f-57e9-437d-bf7d-b62048708e7c",
   "metadata": {},
   "outputs": [
    {
     "name": "stdout",
     "output_type": "stream",
     "text": [
      "<Response [200]>\n"
     ]
    }
   ],
   "source": [
    "url=\"https://results.eci.gov.in/\"\n",
    "r=requests.get(url)\n",
    "print(r)\n",
    "soup=BeautifulSoup(r.text,\"lxml\")"
   ]
  },
  {
   "cell_type": "code",
   "execution_count": 5,
   "id": "a5e27a0e-048a-4166-9648-5b2e6b49b9d7",
   "metadata": {},
   "outputs": [
    {
     "name": "stdout",
     "output_type": "stream",
     "text": [
      "<Response [200]>\n",
      "https://results.eci.gov.in/AcResultGenJune2024/partywiseresult-S18.htm\n"
     ]
    }
   ],
   "source": [
    "url=\"https://results.eci.gov.in/\"\n",
    "r=requests.get(url)\n",
    "print(r)\n",
    "soup=BeautifulSoup(r.text,\"lxml\")\n",
    "cnp=\"https://results.eci.gov.in/AcResultGenJune2024/\"\n",
    "\n",
    "link=cnp+\"partywiseresult-S18.htm\"\n",
    "print(link)\n"
   ]
  },
  {
   "cell_type": "code",
   "execution_count": null,
   "id": "01a9cab6-f505-4679-b639-af004ad3284d",
   "metadata": {},
   "outputs": [],
   "source": [
    "url = \"https://results.eci.gov.in/AcResultGenJune2024/index.htm\"\n",
    "try:\n",
    "    r = requests.get(url)\n",
    "    r.raise_for_status()\n",
    "    soup = BeautifulSoup(r.text, \"lxml\")\n",
    "\n",
    "   \n",
    "    odisha_link = soup.find(lambda tag: tag.name == 'a' and 'Odisha' in tag.text)\n",
    "    \n",
    "    if odisha_link and 'href' in andhra_link.attrs:\n",
    "        odisha_url = 'https://results.eci.gov.in/AcResultGenJune2024/' + odisha_link['href']\n",
    "        print(f\"Found Andhra Pradesh link: {andhra_url}\")\n",
    "        \n",
    "        \n",
    "        r = requests.get(odisha_url)\n",
    "        r.raise_for_status()\n",
    "        soup = BeautifulSoup(r.text, \"lxml\")\n",
    "        \n",
    "        # Step 4: Now look for the results table\n",
    "        table = soup.find(\"table\", class_=\"table\")\n",
    "        \n",
    "        if table:\n",
    "            # Process the table\n",
    "            df = pd.read_html(str(table))[0]\n",
    "            print(\"Data scraped successfully:\")\n",
    "            print(df)\n",
    "\n",
    "            # Step 5: Save to CSV\n",
    "            csv_filename = \"Odisha_election_results.csv\"\n",
    "            df.to_csv(csv_filename, index=False)\n",
    "            print(f\"\\nData saved to {csv_filename}\")\n",
    "        else:\n",
    "            print(\"Results table not found on the Odisha page.\")\n",
    "    else:\n",
    "        print(\"Couldn't find a link to Odisha results.\")\n",
    "\n",
    "except requests.RequestException as e:\n",
    "    print(f\"An error occurred while fetching the webpage: {e}\")\n",
    "except Exception as e:\n",
    "    print(f\"An unexpected error occurred: {e}\")"
   ]
  }
 ],
 "metadata": {
  "kernelspec": {
   "display_name": "Python 3 (ipykernel)",
   "language": "python",
   "name": "python3"
  },
  "language_info": {
   "codemirror_mode": {
    "name": "ipython",
    "version": 3
   },
   "file_extension": ".py",
   "mimetype": "text/x-python",
   "name": "python",
   "nbconvert_exporter": "python",
   "pygments_lexer": "ipython3",
   "version": "3.11.7"
  }
 },
 "nbformat": 4,
 "nbformat_minor": 5
}
