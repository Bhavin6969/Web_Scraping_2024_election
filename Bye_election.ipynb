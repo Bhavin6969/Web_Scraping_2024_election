{
 "cells": [
  {
   "cell_type": "code",
   "execution_count": 2,
   "metadata": {},
   "outputs": [],
   "source": [
    "import requests\n",
    "from bs4 import BeautifulSoup\n",
    "import pandas as pd"
   ]
  },
  {
   "cell_type": "markdown",
   "id": "04d8d569",
   "metadata": {},
   "source": [
    "\n",
    "\n",
    "url = \"https://results.eci.gov.in/AcResultByeJune2024/\"\n",
    "response = requests.get(url)\n",
    "soup = BeautifulSoup(response.content, 'html.parser')\n",
    "\n",
    "# Find all the card divs\n",
    "cards = soup.find_all('div', class_='box-content')\n",
    "\n",
    "data = []\n",
    "\n",
    "for card in cards:\n",
    "    constituency = card.find('h3').text.strip()\n",
    "    state = card.find('h4').text.strip()\n",
    "    status = card.find('h2').text.strip()\n",
    "    candidate = card.find('h5').text.strip()\n",
    "    party = card.find('h6').text.strip()\n",
    "\n",
    "    data.append({\n",
    "        'Constituency': constituency,\n",
    "        'State': state,\n",
    "        'Status': status,\n",
    "        'Candidate': candidate,\n",
    "        'Party': party\n",
    "    })\n",
    "\n",
    "# Create a DataFrame\n",
    "df = pd.DataFrame(data)\n",
    "\n",
    "# Save to CSV\n",
    "df.to_csv('election_results.csv', index=False)\n",
    "\n",
    "print(df)\n",
    "print(\"\\nData saved to election_results.csv\")"
   ]
  },
  {
   "cell_type": "code",
   "execution_count": null,
   "id": "00d988e4",
   "metadata": {},
   "outputs": [],
   "source": [
    "\n",
    "\n",
    "url = \"https://results.eci.gov.in/AcResultByeJune2024/\"\n",
    "response = requests.get(url)\n",
    "soup = BeautifulSoup(response.content, 'html.parser')\n",
    "\n",
    "# Find all the card divs\n",
    "cards = soup.find_all('div', class_='box-content')\n",
    "\n",
    "data = []\n",
    "\n",
    "for card in cards:\n",
    "    constituency = card.find('h3').text.strip()\n",
    "    state = card.find('h4').text.strip()\n",
    "    status = card.find('h2').text.strip()\n",
    "    candidate = card.find('h5').text.strip()\n",
    "    party = card.find('h6').text.strip()\n",
    "\n",
    "    data.append({\n",
    "        'Constituency': constituency,\n",
    "        'State': state,\n",
    "        'Status': status,\n",
    "        'Candidate': candidate,\n",
    "        'Party': party\n",
    "    })\n",
    "\n",
    "# Create a DataFrame\n",
    "df = pd.DataFrame(data)\n",
    "\n",
    "# Save to CSV\n",
    "df.to_csv('election_results.csv', index=False)\n",
    "\n",
    "print(df)\n",
    "print(\"\\nData saved to election_results.csv\")"
   ]
  }
 ],
 "metadata": {
  "kernelspec": {
   "display_name": "Python 3",
   "language": "python",
   "name": "python3"
  },
  "language_info": {
   "codemirror_mode": {
    "name": "ipython",
    "version": 3
   },
   "file_extension": ".py",
   "mimetype": "text/x-python",
   "name": "python",
   "nbconvert_exporter": "python",
   "pygments_lexer": "ipython3",
   "version": "3.11.5"
  }
 },
 "nbformat": 4,
 "nbformat_minor": 5
}
